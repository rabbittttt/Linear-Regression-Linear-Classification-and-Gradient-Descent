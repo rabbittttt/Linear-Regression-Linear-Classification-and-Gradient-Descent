{
 "cells": [
  {
   "cell_type": "code",
   "execution_count": 8,
   "metadata": {},
   "outputs": [
    {
     "data": {
      "image/png": "[encoded data removed]",
      "text/plain": [
       "<matplotlib.figure.Figure at 0x237c02c6a20>"
      ]
     },
     "metadata": {},
     "output_type": "display_data"
    }
   ],
   "source": [
    "from sklearn.model_selection import train_test_split\n",
    "from sklearn.externals.joblib import Memory\n",
    "from sklearn.datasets import load_svmlight_file\n",
    "import sklearn\n",
    "import numpy as np\n",
    "import matplotlib.pyplot as plt\n",
    "import time\n",
    "import jupyter\n",
    "\n",
    "\n",
    "%matplotlib inline\n",
    "\n",
    "mem = Memory(\"./mycache\")\n",
    "@mem.cache\n",
    "\n",
    "def get_data():\n",
    "    data = load_svmlight_file(\"australian.txt\")\n",
    "    return data[0], data[1]\n",
    "\n",
    "#计算梯度\n",
    "def g(x, y, w,b):\n",
    "    grad = 0.01*w#1/2c\n",
    "    for i in range(x.shape[0]):\n",
    "        if y[i] * (w.transpose().dot(x[i]) + b) < 1:\n",
    "              grad -= (x[i] * y[i]).reshape(x.shape[1], 1)\n",
    "    return grad\n",
    "\n",
    " \n",
    "#计算损失函数        \n",
    "def Loss(x, y, w, b):\n",
    "    loss = 0.5 *0.01* w.transpose().dot(w)#1/2c    \n",
    "    for i in range(x.shape[0]):\n",
    "        if y[i] * (w.transpose().dot(x[i]) + b) < 1:\n",
    "            return loss +(1 - y[i] * (w.transpose().dot(x[i]) + b))\n",
    "     \n",
    "\n",
    "\n",
    "\n",
    "                              \n",
    "\n",
    "X, y = get_data()\n",
    "X = X.toarray()\n",
    "m = y.shape[0]\n",
    "y=y.reshape(m,1)\n",
    "\n",
    "X_train, X_test, y_train, y_test = train_test_split(X, y, test_size=0.33, random_state=10)\n",
    "\n",
    "\n",
    "\n",
    "\n",
    "w = np.random.random(size = (X_train.shape[1], 1))\n",
    "b = 2\n",
    "a = 0.0001\n",
    "iteration = 100\n",
    "\n",
    "\n",
    "\n",
    "# 梯度下降法更新参数\n",
    "\n",
    "Loss_train = []\n",
    "Loss_val = []\n",
    "Rate_train = []\n",
    "Rate_val = []\n",
    "\n",
    "for i in range(iteration):\n",
    "    w -= a * g(X_train, y_train,w, b)\n",
    "    loss_train = Loss(X_train, y_train,w, b)\n",
    "    loss_test = Loss(X_test, y_test,w, b)\n",
    "    Loss_train.append(loss_train[0] / X_train.shape[0])\n",
    "    Loss_val.append(loss_test[0] / X_test.shape[0])\n",
    "    #correct rate\n",
    "    iteration_train = 0\n",
    "    h1 = y_train * (X_train.dot(w) + b)\n",
    "    for i in h1:\n",
    "        if i > 0:\n",
    "             iteration_train += 1\n",
    "    rate_train = iteration_train / h1.shape[0]\n",
    "    Rate_train.append(rate_train)\n",
    "    #correct rate\n",
    "    iteration_test = 0\n",
    "    h2 = y_test * (X_test.dot(w) + b)\n",
    "    for i in h2:\n",
    "        if i > 0:\n",
    "            iteration_test += 1\n",
    "    rate_test = iteration_test / h2.shape[0]\n",
    "    Rate_val.append(rate_test)\n",
    "            \n",
    "\n",
    "            \n",
    "                          \n",
    "def paint(loops, train_loss, test_loss, train_rate, test_rate):\n",
    "    #tloss\n",
    "    plt.plot(train_loss, label='Loss_train')\n",
    "    plt.plot(test_loss, label='Loss_val')\n",
    "    plt.xlabel('iteration')\n",
    "    plt.ylabel('loss')\n",
    "    plt.title('loss')\n",
    "    plt.legend()\n",
    "    plt.show()\n",
    "\n",
    "             \n",
    "paint(iteration, Loss_train,Loss_val, Rate_train, Rate_val )\n",
    "\n"
   ]
  },
  {
   "cell_type": "code",
   "execution_count": null,
   "metadata": {
    "collapsed": true
   },
   "outputs": [],
   "source": []
  },
  {
   "cell_type": "code",
   "execution_count": null,
   "metadata": {
    "collapsed": true
   },
   "outputs": [],
   "source": []
  },
  {
   "cell_type": "code",
   "execution_count": null,
   "metadata": {
    "collapsed": true
   },
   "outputs": [],
   "source": []
  }
 ],
 "metadata": {
  "kernelspec": {
   "display_name": "Python 3",
   "language": "python",
   "name": "python3"
  },
  "language_info": {
   "codemirror_mode": {
    "name": "ipython",
    "version": 3
   },
   "file_extension": ".py",
   "mimetype": "text/x-python",
   "name": "python",
   "nbconvert_exporter": "python",
   "pygments_lexer": "ipython3",
   "version": "3.6.3"
  }
 },
 "nbformat": 4,
 "nbformat_minor": 2
}
