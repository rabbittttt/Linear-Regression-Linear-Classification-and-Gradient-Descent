{
 "cells": [
  {
   "cell_type": "code",
   "execution_count": 14,
   "metadata": {},
   "outputs": [
    {
     "data": {
      "image/png": "[encoded data removed]",
      "text/plain": [
       "<matplotlib.figure.Figure at 0x1dd26aca6a0>"
      ]
     },
     "metadata": {},
     "output_type": "display_data"
    }
   ],
   "source": [
    "from sklearn.model_selection import train_test_split\n",
    "from sklearn.externals.joblib import Memory\n",
    "from sklearn.datasets import load_svmlight_file\n",
    "import sklearn\n",
    "import numpy as np\n",
    "import matplotlib.pyplot as plt\n",
    "import time\n",
    "import jupyter\n",
    "\n",
    "\n",
    "%matplotlib inline\n",
    "\n",
    "mem = Memory(\"./mycache\")\n",
    "@mem.cache\n",
    "\n",
    "def get_data():\n",
    "    data = load_svmlight_file(\"Housing.txt\")\n",
    "    return data[0], data[1]\n",
    "\n",
    "# 计算损失函数\n",
    "def cost_fn(x, y, heta):\n",
    "    return 0.5 * (y - x.dot(heta)).transpose().dot((y - x.dot(heta)))\n",
    "    #eturn np.sum((x.dot(heta) - y) ** 2) / (2 * m)\n",
    "\n",
    "# 计算梯度\n",
    "def g(x, y, heta):\n",
    "    return np.dot(X_train.transpose(), np.dot(X_train, heta)) - np.dot(X_train.transpose(), y_train)\n",
    "     #return np.array((y_pred(X_train,theta)- y).dot(x)).reshape(theta) / m\n",
    "\n",
    "    \n",
    "X, y = get_data()\n",
    "X = X.toarray()\n",
    "m = y.shape[0]\n",
    "y=y.reshape(m,1)\n",
    "    \n",
    "X_train, X_val, y_train, y_val = train_test_split(X, y, test_size=0.3, random_state=1)\n",
    "\n",
    "  \n",
    "    \n",
    "heta = np.random.random(size = (X_train.shape[1], 1))#初始化\n",
    "alpha = 0.0011#学习率\n",
    " # 迭代的次数   \n",
    "iteration = 200 \n",
    "\n",
    "Loss_train = []\n",
    "Loss_val = []\n",
    "\n",
    "# 梯度下降法更新参数\n",
    "for i in range(iteration):\n",
    "    #更新参数\n",
    "    heta = heta - a * (g(X_train,y_train,heta))\n",
    "    loss_train = (y_train - X_train.dot(heta)).transpose().dot((y_train - X_train.dot(heta)))/2\n",
    "    loss_val = (y_val-X_val.dot(heta)).transpose().dot((y_val - X_val.dot(heta)))/2\n",
    "    Loss_train.append(loss_train[0] /  X_train.shape[0])\n",
    "    Loss_val.append(loss_val[0] /  X_val.shape[0])\n",
    "    \n",
    "plt.plot(Loss_train,label='Loss_train ')\n",
    "plt.plot(Loss_val, label='Loss_val')\n",
    "plt.xlabel('iteration')\n",
    "plt.ylabel('loss')\n",
    "plt.legend()\n",
    "plt.show()\n"
   ]
  },
  {
   "cell_type": "code",
   "execution_count": null,
   "metadata": {
    "collapsed": true
   },
   "outputs": [],
   "source": []
  }
 ],
 "metadata": {
  "kernelspec": {
   "display_name": "Python 3",
   "language": "python",
   "name": "python3"
  },
  "language_info": {
   "codemirror_mode": {
    "name": "ipython",
    "version": 3
   },
   "file_extension": ".py",
   "mimetype": "text/x-python",
   "name": "python",
   "nbconvert_exporter": "python",
   "pygments_lexer": "ipython3",
   "version": "3.6.3"
  }
 },
 "nbformat": 4,
 "nbformat_minor": 2
}
